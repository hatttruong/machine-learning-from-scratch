{
  "nbformat": 4,
  "nbformat_minor": 0,
  "metadata": {
    "colab": {
      "provenance": [],
      "toc_visible": true,
      "authorship_tag": "ABX9TyORJl5RBo4TOjnQFd5Xa9B1",
      "include_colab_link": true
    },
    "kernelspec": {
      "name": "python3",
      "display_name": "Python 3"
    },
    "language_info": {
      "name": "python"
    }
  },
  "cells": [
    {
      "cell_type": "markdown",
      "metadata": {
        "id": "view-in-github",
        "colab_type": "text"
      },
      "source": [
        "<a href=\"https://colab.research.google.com/github/hatttruong/machine-learning-from-scratch/blob/master/explore_gradient_boosting.ipynb\" target=\"_parent\"><img src=\"https://colab.research.google.com/assets/colab-badge.svg\" alt=\"Open In Colab\"/></a>"
      ]
    },
    {
      "cell_type": "code",
      "execution_count": null,
      "metadata": {
        "id": "8ZFBea04y-hh"
      },
      "outputs": [],
      "source": []
    },
    {
      "cell_type": "markdown",
      "source": [
        "In this notebook, I implement some functions to understanding more about gradient boosting based on the blog explained.ai\n",
        "\n",
        "Ref: https://explained.ai/gradient-boosting/index.html"
      ],
      "metadata": {
        "id": "mth_Cj9VzOfk"
      }
    },
    {
      "cell_type": "code",
      "source": [],
      "metadata": {
        "id": "zPgm1jLYzh4i"
      },
      "execution_count": null,
      "outputs": []
    },
    {
      "cell_type": "markdown",
      "source": [
        "# Gradient boosting regression by example"
      ],
      "metadata": {
        "id": "k7g_SusdziyU"
      }
    },
    {
      "cell_type": "markdown",
      "source": [
        "### Regression tree stump"
      ],
      "metadata": {
        "id": "juIPJxJlzpVZ"
      }
    },
    {
      "cell_type": "code",
      "source": [],
      "metadata": {
        "id": "5vp7_Uz_zmch"
      },
      "execution_count": null,
      "outputs": []
    }
  ]
}